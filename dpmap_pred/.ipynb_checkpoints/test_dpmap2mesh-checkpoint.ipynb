{
 "cells": [
  {
   "cell_type": "code",
   "execution_count": 9,
   "metadata": {},
   "outputs": [],
   "source": [
    "import cv2\n",
    "from utils import color_transfer, tensor2im, subdiv, dpmap2verts\n",
    "import numpy as np\n",
    "import os\n",
    "import trimesh\n"
   ]
  },
  {
   "cell_type": "code",
   "execution_count": 10,
   "metadata": {},
   "outputs": [],
   "source": [
    "dpmap = cv2.imread(\"/media/xyz/RED31/mvfr_released/data/pred/dp_map/texture_073_15.png\")\n",
    "#mesh = OBJ(\"/media/xyz/RED31/mvfr_released/data/pred/reg_mesh/reg_073_15.obj\")\n",
    "mesh = trimesh.load_mesh(\"/media/xyz/RED31/mvfr_released/data/pred/reg_mesh/reg_073_15.obj\")"
   ]
  },
  {
   "cell_type": "code",
   "execution_count": 11,
   "metadata": {},
   "outputs": [],
   "source": [
    "mesh = mesh.subdivide().subdivide().subdivide()"
   ]
  },
  {
   "cell_type": "code",
   "execution_count": 4,
   "metadata": {},
   "outputs": [],
   "source": [
    "if False:\n",
    "# 512 * 2*2*2 = 4096\n",
    "    new_vertices, new_faces, new_texcoords = subdiv(mesh.vertices, mesh.faces, mesh.visual.uv)\n",
    "    new_vertices, new_faces, new_texcoords = subdiv(new_vertices, new_faces, new_texcoords)\n",
    "    new_vertices, new_faces, new_texcoords = subdiv(new_vertices, new_faces, new_texcoords)"
   ]
  },
  {
   "cell_type": "code",
   "execution_count": 5,
   "metadata": {},
   "outputs": [],
   "source": [
    "def de_relocate_dpmap(dpmap): \n",
    "    dpmap = dpmap[600:2500, 1100:3000, :]\n",
    "    dpmap = cv2.resize(dpmap, (950, 950), interpolation=cv2.INTER_LINEAR)\n",
    "    new_dpmap = np.ones((1024, 1024, 3)) * 128\n",
    "    new_dpmap[300-288:1250-288,550-512:1500-512,:] = dpmap  \n",
    "    \n",
    "    return new_dpmap"
   ]
  },
  {
   "cell_type": "code",
   "execution_count": null,
   "metadata": {},
   "outputs": [],
   "source": [
    "new_dpmap = de_relocate_dpmap(dpmap)\n",
    "verts = dpmap2verts(mesh.vertices, mesh.faces, mesh.visual.uv, new_dpmap[0], scale=0.001)"
   ]
  },
  {
   "cell_type": "code",
   "execution_count": null,
   "metadata": {},
   "outputs": [],
   "source": [
    "dp_mesh = trimesh.Trimesh(vertices=verts, faces=mesh.faces)"
   ]
  },
  {
   "cell_type": "code",
   "execution_count": null,
   "metadata": {},
   "outputs": [],
   "source": [
    "dp_mesh.export(\"dp_mesh_073_15.obj\")"
   ]
  },
  {
   "cell_type": "code",
   "execution_count": null,
   "metadata": {},
   "outputs": [],
   "source": []
  }
 ],
 "metadata": {
  "kernelspec": {
   "display_name": "Python 3",
   "language": "python",
   "name": "python3"
  },
  "language_info": {
   "codemirror_mode": {
    "name": "ipython",
    "version": 3
   },
   "file_extension": ".py",
   "mimetype": "text/x-python",
   "name": "python",
   "nbconvert_exporter": "python",
   "pygments_lexer": "ipython3",
   "version": "3.6.12"
  }
 },
 "nbformat": 4,
 "nbformat_minor": 4
}
